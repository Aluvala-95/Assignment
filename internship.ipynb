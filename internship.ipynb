{
 "cells": [
  {
   "cell_type": "code",
   "execution_count": 7,
   "id": "f30c138e",
   "metadata": {},
   "outputs": [
    {
     "name": "stdout",
     "output_type": "stream",
     "text": [
      "Requirement already satisfied: requests in c:\\users\\dell\\anaconda3\\lib\\site-packages (2.31.0)\n",
      "Requirement already satisfied: beautifulsoup4 in c:\\users\\dell\\anaconda3\\lib\\site-packages (4.12.2)\n",
      "Requirement already satisfied: pandas in c:\\users\\dell\\anaconda3\\lib\\site-packages (2.0.3)\n",
      "Requirement already satisfied: charset-normalizer<4,>=2 in c:\\users\\dell\\anaconda3\\lib\\site-packages (from requests) (2.0.4)\n",
      "Requirement already satisfied: idna<4,>=2.5 in c:\\users\\dell\\anaconda3\\lib\\site-packages (from requests) (3.4)\n",
      "Requirement already satisfied: urllib3<3,>=1.21.1 in c:\\users\\dell\\anaconda3\\lib\\site-packages (from requests) (1.26.16)\n",
      "Requirement already satisfied: certifi>=2017.4.17 in c:\\users\\dell\\anaconda3\\lib\\site-packages (from requests) (2023.7.22)\n",
      "Requirement already satisfied: soupsieve>1.2 in c:\\users\\dell\\anaconda3\\lib\\site-packages (from beautifulsoup4) (2.4)\n",
      "Requirement already satisfied: python-dateutil>=2.8.2 in c:\\users\\dell\\anaconda3\\lib\\site-packages (from pandas) (2.8.2)\n",
      "Requirement already satisfied: pytz>=2020.1 in c:\\users\\dell\\anaconda3\\lib\\site-packages (from pandas) (2023.3.post1)\n",
      "Requirement already satisfied: tzdata>=2022.1 in c:\\users\\dell\\anaconda3\\lib\\site-packages (from pandas) (2023.3)\n",
      "Requirement already satisfied: numpy>=1.21.0 in c:\\users\\dell\\anaconda3\\lib\\site-packages (from pandas) (1.24.3)\n",
      "Requirement already satisfied: six>=1.5 in c:\\users\\dell\\anaconda3\\lib\\site-packages (from python-dateutil>=2.8.2->pandas) (1.16.0)\n"
     ]
    }
   ],
   "source": [
    "!pip install requests beautifulsoup4 pandas\n"
   ]
  },
  {
   "cell_type": "code",
   "execution_count": 10,
   "id": "6717ecb1",
   "metadata": {},
   "outputs": [],
   "source": [
    "import requests\n",
    "from bs4 import BeautifulSoup\n",
    "import pandas as pd\n",
    "import difflib\n",
    "import logging\n",
    "\n",
    "logging.basicConfig(level=logging.INFO, format=\"%(asctime)s - %(levelname)s - %(message)s\")\n",
    "\n"
   ]
  },
  {
   "cell_type": "code",
   "execution_count": 11,
   "id": "2e83fb08",
   "metadata": {},
   "outputs": [],
   "source": [
    "\n",
    "class DataCollector:\n",
    "    def run(self):\n",
    "        data = {}\n",
    "\n",
    "        # Polymarket (example public page)\n",
    "        url = \"https://polymarket.com/markets\"\n",
    "        r = requests.get(url, headers={\"User-Agent\": \"Mozilla/5.0\"})\n",
    "        soup = BeautifulSoup(r.text, \"html.parser\")\n",
    "        markets = soup.find_all(\"div\", class_=\"MarketCardstyles__Question-sc\")\n",
    "        poly_data = []\n",
    "        for m in markets[:5]:  # first 5 markets\n",
    "            name = m.get_text()\n",
    "            price = None  # Prices load via JS, skipping\n",
    "            poly_data.append({\"name\": name, \"price\": price})\n",
    "        data[\"polymarket\"] = poly_data\n",
    "\n",
    "        # Kalshi (mock data since site often needs login)\n",
    "        kalshi_data = [\n",
    "            {\"name\": \"Trump wins 2024\", \"price\": 0.62},\n",
    "            {\"name\": \"Bitcoin > 100k in 2025\", \"price\": 0.42}\n",
    "        ]\n",
    "        data[\"kalshi\"] = kalshi_data\n",
    "\n",
    "        # Prediction-Market (mock sample)\n",
    "        pred_data = [\n",
    "            {\"name\": \"Trump presidency 2024\", \"price\": 0.64}\n",
    "        ]\n",
    "        data[\"prediction-market\"] = pred_data\n",
    "\n",
    "        logging.info(\"Collected data from 3 sources (scraped + mocked).\")\n",
    "        return data\n"
   ]
  },
  {
   "cell_type": "code",
   "execution_count": 12,
   "id": "137b5992",
   "metadata": {},
   "outputs": [],
   "source": [
    "class ProductIdentifier:\n",
    "    def run(self, data):\n",
    "        unified = []\n",
    "        products = []\n",
    "\n",
    "        for site, items in data.items():\n",
    "            for p in items:\n",
    "                products.append((site, p[\"name\"], p[\"price\"]))\n",
    "\n",
    "        for site, name, price in products:\n",
    "            matched = None\n",
    "            for item in unified:\n",
    "                if difflib.SequenceMatcher(None, item[\"name\"], name).ratio() > 0.75:\n",
    "                    item[\"prices\"][site] = price\n",
    "                    matched = True\n",
    "                    break\n",
    "            if not matched:\n",
    "                unified.append({\n",
    "                    \"name\": name,\n",
    "                    \"prices\": {site: price},\n",
    "                    \"confidence\": \"High\" if \"Trump\" in name else \"Medium\"\n",
    "                })\n",
    "\n",
    "        logging.info(\"Unified products identified.\")\n",
    "        return unified\n"
   ]
  },
  {
   "cell_type": "code",
   "execution_count": 13,
   "id": "b405f0a2",
   "metadata": {},
   "outputs": [],
   "source": [
    "class DataOrganizer:\n",
    "    def run(self, unified):\n",
    "        rows = []\n",
    "        for u in unified:\n",
    "            row = {\"Product\": u[\"name\"], \"Confidence\": u[\"confidence\"]}\n",
    "            row.update(u[\"prices\"])\n",
    "            rows.append(row)\n",
    "\n",
    "        df = pd.DataFrame(rows)\n",
    "        df.to_csv(\"unified_markets.csv\", index=False)\n",
    "        logging.info(\"CSV file generated: unified_markets.csv\")\n",
    "        return df\n"
   ]
  },
  {
   "cell_type": "code",
   "execution_count": 14,
   "id": "036be8b7",
   "metadata": {},
   "outputs": [
    {
     "name": "stderr",
     "output_type": "stream",
     "text": [
      "2025-08-22 15:26:44,870 - INFO - Collected data from 3 sources (scraped + mocked).\n",
      "2025-08-22 15:26:44,882 - INFO - Unified products identified.\n",
      "2025-08-22 15:26:44,888 - INFO - CSV file generated: unified_markets.csv\n"
     ]
    },
    {
     "data": {
      "text/html": [
       "<div>\n",
       "<style scoped>\n",
       "    .dataframe tbody tr th:only-of-type {\n",
       "        vertical-align: middle;\n",
       "    }\n",
       "\n",
       "    .dataframe tbody tr th {\n",
       "        vertical-align: top;\n",
       "    }\n",
       "\n",
       "    .dataframe thead th {\n",
       "        text-align: right;\n",
       "    }\n",
       "</style>\n",
       "<table border=\"1\" class=\"dataframe\">\n",
       "  <thead>\n",
       "    <tr style=\"text-align: right;\">\n",
       "      <th></th>\n",
       "      <th>Product</th>\n",
       "      <th>Confidence</th>\n",
       "      <th>kalshi</th>\n",
       "      <th>prediction-market</th>\n",
       "    </tr>\n",
       "  </thead>\n",
       "  <tbody>\n",
       "    <tr>\n",
       "      <th>0</th>\n",
       "      <td>Trump wins 2024</td>\n",
       "      <td>High</td>\n",
       "      <td>0.62</td>\n",
       "      <td>NaN</td>\n",
       "    </tr>\n",
       "    <tr>\n",
       "      <th>1</th>\n",
       "      <td>Bitcoin &gt; 100k in 2025</td>\n",
       "      <td>Medium</td>\n",
       "      <td>0.42</td>\n",
       "      <td>NaN</td>\n",
       "    </tr>\n",
       "    <tr>\n",
       "      <th>2</th>\n",
       "      <td>Trump presidency 2024</td>\n",
       "      <td>High</td>\n",
       "      <td>NaN</td>\n",
       "      <td>0.64</td>\n",
       "    </tr>\n",
       "  </tbody>\n",
       "</table>\n",
       "</div>"
      ],
      "text/plain": [
       "                  Product Confidence  kalshi  prediction-market\n",
       "0         Trump wins 2024       High    0.62                NaN\n",
       "1  Bitcoin > 100k in 2025     Medium    0.42                NaN\n",
       "2   Trump presidency 2024       High     NaN               0.64"
      ]
     },
     "execution_count": 14,
     "metadata": {},
     "output_type": "execute_result"
    }
   ],
   "source": [
    "collector = DataCollector()\n",
    "identifier = ProductIdentifier()\n",
    "organizer = DataOrganizer()\n",
    "\n",
    "# Step 1: Collect\n",
    "data = collector.run()\n",
    "\n",
    "# Step 2: Identify unified products\n",
    "unified = identifier.run(data)\n",
    "\n",
    "# Step 3: Organize + Save to CSV\n",
    "df = organizer.run(unified)\n",
    "\n",
    "# Display in Jupyter\n",
    "df\n"
   ]
  },
  {
   "cell_type": "code",
   "execution_count": null,
   "id": "3327a99d",
   "metadata": {},
   "outputs": [],
   "source": []
  }
 ],
 "metadata": {
  "kernelspec": {
   "display_name": "Python 3 (ipykernel)",
   "language": "python",
   "name": "python3"
  },
  "language_info": {
   "codemirror_mode": {
    "name": "ipython",
    "version": 3
   },
   "file_extension": ".py",
   "mimetype": "text/x-python",
   "name": "python",
   "nbconvert_exporter": "python",
   "pygments_lexer": "ipython3",
   "version": "3.11.5"
  }
 },
 "nbformat": 4,
 "nbformat_minor": 5
}
